{
 "cells": [
  {
   "cell_type": "markdown",
   "metadata": {},
   "source": [
    "# Problem\n"
   ]
  },
  {
   "cell_type": "markdown",
   "metadata": {},
   "source": [
    "Chef wants to host some Division-3 contests. Chef has N setters who are busy creating new problems for him. The ith setter has made Ai problems where 1≤i≤N.\n",
    "\n",
    "A Division-3 contest should have exactly K problems. Chef wants to plan for the next D days using the problems that they have currently. But Chef cannot host more than one Division-3 contest in a day.\n",
    "\n",
    "Given these constraints, can you help Chef find the maximum number of Division-3 contests that can be hosted in these D days?\n",
    "\n",
    "**Input:**\n",
    "- The first line of input contains a single integer T denoting the number of test cases. The description of T test cases follows.\n",
    "- The first line of each test case contains three space-separated integers - N, K and D respectively.\n",
    "- The second line of each test case contains N space-separated integers A1,A2,…,AN respectively.\n",
    "\n",
    "**Output:**\n",
    "For each test case, print a single line containing one integer ― the maximum number of Division-3 contests Chef can host in these D days.\n",
    "\n",
    "***Sample Input:***\n",
    "5\n",
    "\n",
    "1 5 31\n",
    "\n",
    "4\n",
    "\n",
    "1 10 3\n",
    "\n",
    "23\n",
    "\n",
    "2 5 7\n",
    "\n",
    "20 36\n",
    "\n",
    "2 5 10\n",
    "\n",
    "19 2\n",
    "\n",
    "3 3 300\n",
    "\n",
    "1 1 1\n",
    "***Sample Output:***\n",
    "0\n",
    "\n",
    "2\n",
    "\n",
    "7\n",
    "\n",
    "4\n",
    "\n",
    "1"
   ]
  },
  {
   "cell_type": "markdown",
   "metadata": {},
   "source": [
    "# Solution"
   ]
  },
  {
   "cell_type": "code",
   "execution_count": 1,
   "metadata": {},
   "outputs": [
    {
     "name": "stdout",
     "output_type": "stream",
     "text": [
      "INPUT\n",
      "2\n",
      "1 5 31\n",
      "4\n",
      "2 5 10\n",
      "19 2\n",
      "\n",
      "OUTPUT\n",
      "0\n",
      "4\n"
     ]
    }
   ],
   "source": [
    "def logic(n,k,d,problems):\n",
    "    problems = [int(j) for j in problems]\n",
    "    n,k,d = map(int,(n,k,d))\n",
    "    total_prob = sum(problems)\n",
    "    \n",
    "    if total_prob < k:\n",
    "        return 0\n",
    "    \n",
    "    highest_possible_contests = total_prob // k\n",
    "    \n",
    "    if highest_possible_contests < d:\n",
    "        return highest_possible_contests\n",
    "    else:\n",
    "        return d\n",
    "\n",
    "print(\"INPUT\")\n",
    "test_cases =  int(input())\n",
    "output = []\n",
    "\n",
    "for i in range(test_cases):\n",
    "    (n,k,d) = input().split(\" \")\n",
    "    problems = list(input().split(\" \"))\n",
    "    output.append(logic(n,k,d,problems))\n",
    "    \n",
    "print(\"\\nOUTPUT\")    \n",
    "for i in output:\n",
    "    print(i)"
   ]
  },
  {
   "cell_type": "code",
   "execution_count": null,
   "metadata": {},
   "outputs": [],
   "source": []
  }
 ],
 "metadata": {
  "kernelspec": {
   "display_name": "Python 3",
   "language": "python",
   "name": "python3"
  },
  "language_info": {
   "codemirror_mode": {
    "name": "ipython",
    "version": 3
   },
   "file_extension": ".py",
   "mimetype": "text/x-python",
   "name": "python",
   "nbconvert_exporter": "python",
   "pygments_lexer": "ipython3",
   "version": "3.7.4"
  }
 },
 "nbformat": 4,
 "nbformat_minor": 2
}
