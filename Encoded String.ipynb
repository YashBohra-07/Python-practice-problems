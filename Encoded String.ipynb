{
 "cells": [
  {
   "cell_type": "markdown",
   "metadata": {},
   "source": [
    "**PROBLEM**\n",
    "An encoder encodes the first 16 lowercase English letters using 4 bits each. The first bit (from the left) of the code is 0 if the letter lies among the first 8 letters, else it is 1, signifying that it lies among the last 8 letters. The second bit of the code is 0 if the letter lies among the first 4 letters of those 8 letters found in the previous step, else it's 1, signifying that it lies among the last 4 letters of those 8 letters. Similarly, the third and the fourth bit each signify the half in which the letter lies.\n",
    "\n",
    "For example, the letter j would be encoded as :\n",
    "\n",
    "Among (a,b,c,d,e,f,g,h | i,j,k,l,m,n,o,p), j appears in the second half. So the first bit of its encoding is 1.\n",
    "Now, among (i,j,k,l | m,n,o,p), j appears in the first half. So the second bit of its encoding is 0.\n",
    "Now, among (i,j | k,l), j appears in the first half. So the third bit of its encoding is 0.\n",
    "Now, among (i | j), j appears in the second half. So the fourth and last bit of its encoding is 1.\n",
    "So j's encoding is 1001,\n",
    "\n",
    "Given a binary encoded string S, of length at most 105, decode the string. That is, the first 4 bits are the encoding of the first letter of the secret message, the next 4 bits encode the second letter, and so on. It is guaranteed that the string's length is a multiple of 4.\n",
    "\n",
    "**Input:**\n",
    "The first line of the input contains an integer T, denoting the number of test cases.\n",
    "The first line of each test case contains an integer N, the length of the encoded string.\n",
    "The second line of each test case contains the encoded string S.\n",
    "\n",
    "\n",
    "**Output:**\n",
    "For each test case, print the decoded string, in a separate line."
   ]
  },
  {
   "cell_type": "markdown",
   "metadata": {},
   "source": [
    "**Sample Input:**\n",
    "\n",
    "3\n",
    "\n",
    "4\n",
    "\n",
    "0000\n",
    "\n",
    "8\n",
    "\n",
    "00001111\n",
    "4\n",
    "\n",
    "1001\n",
    "\n",
    "**Sample Output:**\n",
    "\n",
    "a\n",
    "\n",
    "ap\n",
    "\n",
    "j"
   ]
  },
  {
   "cell_type": "code",
   "execution_count": 22,
   "metadata": {},
   "outputs": [],
   "source": [
    "labels = ['a','b','c','d','e','f','g','h','i','j','k','l','m','n','o','p']\n",
    "def ChunkString(string,chunk_size):\n",
    "    chunks = [string[i:chunk_size+i] for i in range(0,len(string),chunk_size)]\n",
    "    return chunks\n",
    "def decode(chunk):\n",
    "    alphabet = labels\n",
    "    for i in chunk:\n",
    "        if i == '0':\n",
    "            alphabet = alphabet[:len(alphabet)//2]\n",
    "        else:\n",
    "            alphabet = alphabet[len(alphabet)//2:]\n",
    "    return(alphabet[0])        "
   ]
  },
  {
   "cell_type": "code",
   "execution_count": 24,
   "metadata": {},
   "outputs": [
    {
     "name": "stdout",
     "output_type": "stream",
     "text": [
      "3\n",
      "4\n",
      "0000\n",
      "8\n",
      "00001111\n",
      "4\n",
      "1001\n",
      "a\n",
      "ap\n",
      "j\n"
     ]
    }
   ],
   "source": [
    "\n",
    "T = int(input()) # no. of test cases\n",
    "output = []\n",
    "for i in range(T):\n",
    "    N = int(input()) # length of the encoded string\n",
    "    S = input()\n",
    "\n",
    "    if N==4 :\n",
    "        output.append(decode(S))\n",
    "    else:\n",
    "        chunks = ChunkString(S,4)\n",
    "        cur_out = str()  # current output : alphabets for the current test case string \n",
    "        for chunk in chunks:\n",
    "            cur_out += decode(chunk)\n",
    "        output.append(cur_out)  \n",
    "for j in output:\n",
    "    print(j)"
   ]
  },
  {
   "cell_type": "code",
   "execution_count": 20,
   "metadata": {},
   "outputs": [
    {
     "data": {
      "text/plain": [
       "''"
      ]
     },
     "execution_count": 20,
     "metadata": {},
     "output_type": "execute_result"
    }
   ],
   "source": [
    "T"
   ]
  },
  {
   "cell_type": "code",
   "execution_count": null,
   "metadata": {},
   "outputs": [],
   "source": []
  }
 ],
 "metadata": {
  "kernelspec": {
   "display_name": "Python 3",
   "language": "python",
   "name": "python3"
  },
  "language_info": {
   "codemirror_mode": {
    "name": "ipython",
    "version": 3
   },
   "file_extension": ".py",
   "mimetype": "text/x-python",
   "name": "python",
   "nbconvert_exporter": "python",
   "pygments_lexer": "ipython3",
   "version": "3.7.4"
  }
 },
 "nbformat": 4,
 "nbformat_minor": 2
}
