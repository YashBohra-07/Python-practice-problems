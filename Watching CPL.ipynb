{
 "cells": [
  {
   "cell_type": "markdown",
   "metadata": {},
   "source": [
    "**Problem**\n",
    "\n",
    "Mike and Tracy want to watch the grand finale of FIFA, but unfortunately, they could not get tickets to the match. However, Mike is not someone who gives up so easily — he has a plan to watch the match.\n",
    "\n",
    "The field where the match is played is surrounded by a wall with height K. Outside, there are N boxes (numbered 1 through N). For each valid i, the i-th box has a height Hi.\n",
    "\n",
    "Mike wants to take some boxes and stack them on top of each other to build two towers. The height of each tower is the sum of heights of all the boxes that form it. Of course, no box may be in both towers. The height of each tower should be at least K. Then Mike can climb on top of one tower and Tracy on top of the other, and they can watch the match uninterrupted!\n",
    "\n",
    "While Mike is busy stacking the boxes, Tracy would like to know the smallest number of boxes required to build two towers such that each of them has height at least K, or at least that it is impossible to build such towers. Can you help Tracy?\n",
    "\n",
    "**Input**\n",
    "\n",
    "The first line of the input contains a single integer T denoting the number of test cases. The description of T test cases follows.\n",
    "\n",
    "The first line of each test case contains two space-separated integers N and K.\n",
    "\n",
    "The second line contains N space-separated integers H1,H2,…,HN.\n",
    "\n",
    "**Output**\n",
    "\n",
    "For each test case, print a single line containing one integer — the smallest number of boxes required to build two towers, or −1 if it is impossible.\n",
    "\n",
    "**Example Input**\n",
    "\n",
    "2\n",
    "\n",
    "8 38\n",
    "\n",
    "7 8 19 7 8 7 10 20\n",
    "\n",
    "4 5\n",
    "\n",
    "2 10 4 9\n",
    "\n",
    "\n",
    "**Example Output** \n",
    "\n",
    "7\n",
    "\n",
    "2\n",
    "\n",
    "**Example case 1:**\n",
    "\n",
    "The first tower can be built with boxes 8+10+20=38 and the second tower with boxes 7+7+8+19=41. In this case, the box with height 7 is left unused.\n",
    "\n",
    "**Example case 2:**\n",
    "\n",
    "We only need the box with height 10 for one tower and the box with height 9 for the other tower."
   ]
  },
  {
   "cell_type": "code",
   "execution_count": 9,
   "metadata": {},
   "outputs": [],
   "source": [
    "class tower:\n",
    "    def __init__(self):\n",
    "        self.height = 0\n",
    "        self.need = 1\n",
    "        self.boxes_used = 0\n",
    "        \n",
    "    def AddBox(self,box_height):\n",
    "        self.boxes_used += 1\n",
    "        self.height += box_height\n",
    "        return self"
   ]
  },
  {
   "cell_type": "code",
   "execution_count": 13,
   "metadata": {},
   "outputs": [
    {
     "name": "stdout",
     "output_type": "stream",
     "text": [
      "2\n",
      "8 38\n",
      "7 8 19 7 8 7 10 20\n",
      "4 5\n",
      "2 10 4 9\n",
      "7\n",
      "2\n"
     ]
    }
   ],
   "source": [
    "test_cases = int(input())\n",
    "output = list()\n",
    "for case in range(test_cases):\n",
    "    total_boxes , wall_height = map(int,input().split())\n",
    "    total_boxes_used = 0\n",
    "    boxes = list(map(int,input().split()))\n",
    "    boxes.sort()\n",
    "    T1 , T2= tower() , tower()\n",
    "    if sum(boxes) < wall_height :\n",
    "        output.append(-1)\n",
    "        break\n",
    "    while(len(boxes)):\n",
    "        if T1.need==0 and T2.need==0:\n",
    "            break\n",
    "        if total_boxes_used == total_boxes and (T1.height < wall_height or T2.height < wall_height):\n",
    "            break\n",
    "        if T1.height < wall_height and T1.need == 1:\n",
    "            if len(boxes)!=0 :           \n",
    "                box = boxes.pop()\n",
    "                T1.AddBox(box)\n",
    "                total_boxes_used += 1\n",
    "            else:\n",
    "                break\n",
    "        else:\n",
    "            T1.need = 0\n",
    "        if T2.height < wall_height and T2.need == 1 :\n",
    "            if len(boxes)!=0 :\n",
    "                box = boxes.pop()\n",
    "                T2.AddBox(box)\n",
    "                total_boxes_used += 1\n",
    "            else:\n",
    "                break\n",
    "        else:\n",
    "            T2.need = 0\n",
    "    if T1.height >= wall_height and T2.height >= wall_height :\n",
    "        #print(\"For test case {} :\".format(case),T1.boxes_used,T2.boxes_used)\n",
    "         output.append(T1.boxes_used + T2.boxes_used)\n",
    "    else:\n",
    "        output.append(-1)\n",
    "for i in output:\n",
    "    print(i)"
   ]
  },
  {
   "cell_type": "code",
   "execution_count": null,
   "metadata": {},
   "outputs": [],
   "source": []
  },
  {
   "cell_type": "code",
   "execution_count": null,
   "metadata": {},
   "outputs": [],
   "source": []
  },
  {
   "cell_type": "code",
   "execution_count": null,
   "metadata": {},
   "outputs": [],
   "source": []
  }
 ],
 "metadata": {
  "kernelspec": {
   "display_name": "Python 3",
   "language": "python",
   "name": "python3"
  },
  "language_info": {
   "codemirror_mode": {
    "name": "ipython",
    "version": 3
   },
   "file_extension": ".py",
   "mimetype": "text/x-python",
   "name": "python",
   "nbconvert_exporter": "python",
   "pygments_lexer": "ipython3",
   "version": "3.7.4"
  }
 },
 "nbformat": 4,
 "nbformat_minor": 2
}
