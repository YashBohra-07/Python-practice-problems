{
 "cells": [
  {
   "cell_type": "markdown",
   "metadata": {},
   "source": [
    "**PROBLEM**\n",
    "\n",
    "Elections are coming soon. This year, two candidates passed to the final stage. One candidate is John Jackson and his opponent is Jack Johnson.\n",
    "\n",
    "During the elections, everyone can vote for their favourite candidate, but no one can vote for both candidates. Then, packs of votes which went to the same candidate are formed. You know that for John Jackson, there are N packs containing A1,A2,…,AN votes, and for Jack Johnson, there are M packs containing B1,B2,…,BM votes.\n",
    "\n",
    "The winner is the candidate that has strictly more votes than the other candidate; if both have the same number of votes, there is no winner. You are a friend of John Jackson and you want to help him win. To do that, you may perform the following operation any number of times (including zero): choose two packs of votes that currently belong to different candidates and swap them, i.e. change the votes in each of these packs so that they would go to the other candidate.\n",
    "\n",
    "You are very careful, so you want to perform as few swaps as possible. Find the smallest number of operations you need to perform or determine that it is impossible to make John Jackson win.\n",
    "\n",
    "**Input**\n",
    "\n",
    "The first line of the input contains a single integer T denoting the number of test cases. The description of T test cases follows.\n",
    "\n",
    "The first line of each test case contains two space-separated integers N and M.\n",
    "\n",
    "The second line contains N space-separated integers A1,A2,…,AN.\n",
    "\n",
    "The third line contains M space-separated integers B1,B2,…,BM.\n",
    "\n",
    "**Output**\n",
    "\n",
    "For each test case, print a single line containing one integer ― the smallest number of swaps needed to make John Jackson win, or −1 if it is impossible.\n",
    "\n",
    "**Example Input**\n",
    "\n",
    "2\n",
    "\n",
    "2 3\n",
    "\n",
    "2 2\n",
    "\n",
    "5 5 5\n",
    "\n",
    "4 3\n",
    "\n",
    "1 3 2 4\n",
    "\n",
    "6 7 8\n",
    "\n",
    "**Example Output**\n",
    "\n",
    "2\n",
    "\n",
    "1\n",
    "\n",
    "\n",
    "**Explanation**\n",
    "\n",
    "*Example case 1:*\n",
    "\n",
    "We can perform two swaps ― each time, we swap a pack of 2 votes from A and a pack of 5 votes from B. After that, John Jackson gets 5+5=10 votes and Jack Johnson gets 2+2+5=9 votes.\n",
    "\n",
    "*Example case 2:*\n",
    "\n",
    "We can swap the pack of 1 vote from A and the pack of 8 votes from B. After that, John Jackson gets 8+3+2+4=17 votes and Jack Johnson gets 6+7+1=14 votes.\n"
   ]
  },
  {
   "cell_type": "code",
   "execution_count": 16,
   "metadata": {},
   "outputs": [],
   "source": [
    "def convert(l):\n",
    "    l = [int(i) for i in l]\n",
    "    return l\n",
    "def MinimumSwap(a,b,lengths):\n",
    "    a, b, l1, l2 = convert(a), convert(b), int(lengths[0]), int(lengths[1])\n",
    "    highest_possible_swaps = l1 if l1<=l2 else l2\n",
    "    iter , swap = 0 , 0\n",
    "    if sum(a)==sum(b): return -1\n",
    "    if sum(a) > sum(b) : return 0\n",
    "    while(sum(b) > sum(a)):\n",
    "        if iter == highest_possible_swaps :\n",
    "            return -1\n",
    "        a_min = a.index(min(a))\n",
    "        b_max = b.index(max(b))\n",
    "        if b[b_max] > a[a_min] :\n",
    "            a[a_min] , b[b_max] = b[b_max] , a[a_min]\n",
    "            swap += 1\n",
    "        iter += 1\n",
    "    return swap    "
   ]
  },
  {
   "cell_type": "code",
   "execution_count": 21,
   "metadata": {},
   "outputs": [
    {
     "name": "stdout",
     "output_type": "stream",
     "text": [
      "2\n",
      "2 3\n",
      "2 2\n",
      "5 5 5\n",
      "4 3\n",
      "1 3 2 4\n",
      "6 7 8\n",
      "2\n",
      "1\n"
     ]
    }
   ],
   "source": [
    "T = int(input())\n",
    "output = []\n",
    "for i in range(T):\n",
    "    lengths = input().split(\" \")\n",
    "    John = input().split(\" \")\n",
    "    Jack = input().split(\" \")\n",
    "    res = MinimumSwap(John,Jack,lengths)\n",
    "    output.append(res)\n",
    "for j in output:\n",
    "    print(j)\n",
    "    \n",
    "    "
   ]
  },
  {
   "cell_type": "code",
   "execution_count": null,
   "metadata": {},
   "outputs": [],
   "source": []
  },
  {
   "cell_type": "code",
   "execution_count": null,
   "metadata": {},
   "outputs": [],
   "source": []
  }
 ],
 "metadata": {
  "kernelspec": {
   "display_name": "Python 3",
   "language": "python",
   "name": "python3"
  },
  "language_info": {
   "codemirror_mode": {
    "name": "ipython",
    "version": 3
   },
   "file_extension": ".py",
   "mimetype": "text/x-python",
   "name": "python",
   "nbconvert_exporter": "python",
   "pygments_lexer": "ipython3",
   "version": "3.7.4"
  }
 },
 "nbformat": 4,
 "nbformat_minor": 2
}
